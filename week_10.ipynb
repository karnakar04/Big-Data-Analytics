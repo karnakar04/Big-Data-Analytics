{
  "nbformat": 4,
  "nbformat_minor": 0,
  "metadata": {
    "colab": {
      "provenance": [],
      "authorship_tag": "ABX9TyNHNibGzzy86AfOmVjwZiPQ",
      "include_colab_link": true
    },
    "kernelspec": {
      "name": "python3",
      "display_name": "Python 3"
    },
    "language_info": {
      "name": "python"
    }
  },
  "cells": [
    {
      "cell_type": "markdown",
      "metadata": {
        "id": "view-in-github",
        "colab_type": "text"
      },
      "source": [
        "<a href=\"https://colab.research.google.com/github/ahsplore/BigDataAnalytics/blob/main/week_10.ipynb\" target=\"_parent\"><img src=\"https://colab.research.google.com/assets/colab-badge.svg\" alt=\"Open In Colab\"/></a>"
      ]
    },
    {
      "cell_type": "markdown",
      "source": [
        "#Week 10"
      ],
      "metadata": {
        "id": "a9G4RY7hFNmN"
      }
    },
    {
      "cell_type": "markdown",
      "source": [
        "#Dataset Sampling using the sample() and takeSample() methods in pyspark"
      ],
      "metadata": {
        "id": "1FGwXEqfFNiw"
      }
    },
    {
      "cell_type": "code",
      "execution_count": 1,
      "metadata": {
        "id": "PYmUMNDuDzVM"
      },
      "outputs": [],
      "source": [
        "from pyspark.sql import SparkSession\n",
        "\n",
        "spark = SparkSession.builder.appName(\"SamplingExample\").getOrCreate()"
      ]
    },
    {
      "cell_type": "markdown",
      "source": [
        "read CSV file"
      ],
      "metadata": {
        "id": "m2zENS6DKN35"
      }
    },
    {
      "cell_type": "code",
      "source": [
        "df = spark.read.csv(\"students.csv\", header=True, inferSchema=True)"
      ],
      "metadata": {
        "id": "7PWBZJqFKLqN"
      },
      "execution_count": 2,
      "outputs": []
    },
    {
      "cell_type": "code",
      "source": [
        "print(\"=== First 5 rows of dataset ===\")\n",
        "df.show(5)\n",
        "\n",
        "print(\"=== Schema of dataset ===\")\n",
        "df.printSchema()"
      ],
      "metadata": {
        "colab": {
          "base_uri": "https://localhost:8080/"
        },
        "id": "NwSbER7OKLnQ",
        "outputId": "99f6afb3-25dd-47af-d3e2-f3395906604e"
      },
      "execution_count": 3,
      "outputs": [
        {
          "output_type": "stream",
          "name": "stdout",
          "text": [
            "=== First 5 rows of dataset ===\n",
            "+---+-------+---+------+----+-------+-------+\n",
            "| id|   name|age|gender|math|science|english|\n",
            "+---+-------+---+------+----+-------+-------+\n",
            "|  1|  Alice| 20|     F|  66|     92|     44|\n",
            "|  2|    Bob| 20|     M|  82|     52|     77|\n",
            "|  3|Charlie| 22|     F|  43|     57|     76|\n",
            "|  4|  David| 19|     M|  95|     69|     46|\n",
            "|  5|    Eva| 19|     F|  62|     44|     96|\n",
            "+---+-------+---+------+----+-------+-------+\n",
            "only showing top 5 rows\n",
            "\n",
            "=== Schema of dataset ===\n",
            "root\n",
            " |-- id: integer (nullable = true)\n",
            " |-- name: string (nullable = true)\n",
            " |-- age: integer (nullable = true)\n",
            " |-- gender: string (nullable = true)\n",
            " |-- math: integer (nullable = true)\n",
            " |-- science: integer (nullable = true)\n",
            " |-- english: integer (nullable = true)\n",
            "\n"
          ]
        }
      ]
    },
    {
      "cell_type": "markdown",
      "source": [
        "using sample() method"
      ],
      "metadata": {
        "id": "4RCGpz8tKq1G"
      }
    },
    {
      "cell_type": "code",
      "source": [
        "print(\"=== Sample (30% without replacement) ===\")\n",
        "df.sample(withReplacement=False, fraction=0.3, seed=42).show(10)\n",
        "\n",
        "print(\"=== Sample (20% with replacement) ===\")\n",
        "df.sample(withReplacement=True, fraction=0.2, seed=42).show(10)"
      ],
      "metadata": {
        "colab": {
          "base_uri": "https://localhost:8080/"
        },
        "id": "szZnvVq0KLkR",
        "outputId": "85b94376-8285-46bf-cfc5-e1a24a32d42c"
      },
      "execution_count": 4,
      "outputs": [
        {
          "output_type": "stream",
          "name": "stdout",
          "text": [
            "=== Sample (30% without replacement) ===\n",
            "+---+------+---+------+----+-------+-------+\n",
            "| id|  name|age|gender|math|science|english|\n",
            "+---+------+---+------+----+-------+-------+\n",
            "|  4| David| 19|     M|  95|     69|     46|\n",
            "|  8| Henry| 21|     F|  53|     82|     60|\n",
            "| 17|Quincy| 18|     M|  65|     79|     54|\n",
            "| 19|   Sam| 18|     F|  76|     70|     65|\n",
            "| 27| Aaron| 25|     F|  81|     99|     44|\n",
            "| 28| Bella| 19|     F|  54|     76|     76|\n",
            "| 32| Fiona| 22|     F|  48|     96|     48|\n",
            "| 37|  Kyle| 21|     M|  57|     86|     92|\n",
            "| 39|  Matt| 25|     M|  64|     71|    100|\n",
            "| 41| Oscar| 20|     M|  87|     72|     81|\n",
            "+---+------+---+------+----+-------+-------+\n",
            "only showing top 10 rows\n",
            "\n",
            "=== Sample (20% with replacement) ===\n",
            "+---+------+---+------+----+-------+-------+\n",
            "| id|  name|age|gender|math|science|english|\n",
            "+---+------+---+------+----+-------+-------+\n",
            "|  6| Frank| 22|     F|  70|     78|     94|\n",
            "|  7| Grace| 24|     F|  67|     66|     93|\n",
            "| 14|Nathan| 23|     F|  71|     66|     60|\n",
            "| 17|Quincy| 18|     M|  65|     79|     54|\n",
            "| 21|   Uma| 19|     F|  89|     70|     76|\n",
            "| 22|Victor| 22|     M|  96|     75|     56|\n",
            "| 31| Ethan| 24|     M|  53|     57|     45|\n",
            "| 32| Fiona| 22|     F|  48|     96|     48|\n",
            "| 35|   Ian| 21|     F|  72|     75|     70|\n",
            "| 38| Laura| 23|     M|  84|     73|     56|\n",
            "+---+------+---+------+----+-------+-------+\n",
            "only showing top 10 rows\n",
            "\n"
          ]
        }
      ]
    },
    {
      "cell_type": "markdown",
      "source": [
        "using takeSample() method"
      ],
      "metadata": {
        "id": "lRSfdNr_Kve_"
      }
    },
    {
      "cell_type": "code",
      "source": [
        "print(\"=== takeSample: 5 rows (without replacement) ===\")\n",
        "sampled_rows = df.rdd.takeSample(False, 5, seed=42)\n",
        "for row in sampled_rows:\n",
        "    print(row)\n",
        "\n",
        "print(\"=== takeSample: 5 rows (with replacement) ===\")\n",
        "sampled_rows_wr = df.rdd.takeSample(True, 5, seed=42)\n",
        "for row in sampled_rows_wr:\n",
        "    print(row)"
      ],
      "metadata": {
        "colab": {
          "base_uri": "https://localhost:8080/"
        },
        "id": "ExMOr3VWKLhf",
        "outputId": "57d9d9be-c820-43e0-f4b5-4eb3ae504031"
      },
      "execution_count": 5,
      "outputs": [
        {
          "output_type": "stream",
          "name": "stdout",
          "text": [
            "=== takeSample: 5 rows (without replacement) ===\n",
            "Row(id=35, name='Ian', age=21, gender='F', math=72, science=75, english=70)\n",
            "Row(id=26, name='Zoey', age=18, gender='M', math=42, science=48, english=42)\n",
            "Row(id=17, name='Quincy', age=18, gender='M', math=65, science=79, english=54)\n",
            "Row(id=43, name='Quinn', age=18, gender='F', math=56, science=60, english=87)\n",
            "Row(id=38, name='Laura', age=23, gender='M', math=84, science=73, english=56)\n",
            "=== takeSample: 5 rows (with replacement) ===\n",
            "Row(id=47, name='Umar', age=21, gender='F', math=75, science=80, english=59)\n",
            "Row(id=17, name='Quincy', age=18, gender='M', math=65, science=79, english=54)\n",
            "Row(id=10, name='Jack', age=19, gender='F', math=44, science=59, english=60)\n",
            "Row(id=38, name='Laura', age=23, gender='M', math=84, science=73, english=56)\n",
            "Row(id=23, name='Wendy', age=24, gender='M', math=57, science=83, english=81)\n"
          ]
        }
      ]
    },
    {
      "cell_type": "code",
      "source": [
        "print(\"Total rows in dataset:\", df.count())"
      ],
      "metadata": {
        "colab": {
          "base_uri": "https://localhost:8080/"
        },
        "id": "c1wLBuLBKLeg",
        "outputId": "aba83ff1-c775-4b49-fe40-a6f06bbd47de"
      },
      "execution_count": 6,
      "outputs": [
        {
          "output_type": "stream",
          "name": "stdout",
          "text": [
            "Total rows in dataset: 50\n"
          ]
        }
      ]
    },
    {
      "cell_type": "code",
      "source": [
        "spark.stop()"
      ],
      "metadata": {
        "id": "WxZzf-XiKLbp"
      },
      "execution_count": 7,
      "outputs": []
    }
  ]
}