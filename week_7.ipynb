{
  "nbformat": 4,
  "nbformat_minor": 0,
  "metadata": {
    "colab": {
      "provenance": [],
      "mount_file_id": "1ZaT8fb7IhRyDpUUz-9SV4eHoCtPuf_Ve",
      "authorship_tag": "ABX9TyOlQoeBdeAED4mCJmoQLlTw",
      "include_colab_link": true
    },
    "kernelspec": {
      "name": "python3",
      "display_name": "Python 3"
    },
    "language_info": {
      "name": "python"
    }
  },
  "cells": [
    {
      "cell_type": "markdown",
      "metadata": {
        "id": "view-in-github",
        "colab_type": "text"
      },
      "source": [
        "<a href=\"https://colab.research.google.com/github/ahsplore/BigDataAnalytics/blob/main/week_7.ipynb\" target=\"_parent\"><img src=\"https://colab.research.google.com/assets/colab-badge.svg\" alt=\"Open In Colab\"/></a>"
      ]
    },
    {
      "cell_type": "markdown",
      "source": [
        "#Week 7"
      ],
      "metadata": {
        "id": "0GqfEig4br7j"
      }
    },
    {
      "cell_type": "markdown",
      "source": [
        "# Explore collect() operation in pyspark with basic RDD operation"
      ],
      "metadata": {
        "id": "PSSGuXW7bryZ"
      }
    },
    {
      "cell_type": "code",
      "execution_count": 1,
      "metadata": {
        "id": "ocHnb3lsboID"
      },
      "outputs": [],
      "source": [
        "from pyspark import SparkContext, SparkConf\n",
        "\n",
        "conf = SparkConf().setAppName(\"ColabPySpark\").setMaster(\"local[*]\")\n",
        "sc = SparkContext.getOrCreate(conf)"
      ]
    },
    {
      "cell_type": "markdown",
      "source": [
        "Load and process students data"
      ],
      "metadata": {
        "id": "dIrhgeRZdHmi"
      }
    },
    {
      "cell_type": "code",
      "source": [
        "data = sc.textFile(\"/students.csv\")\n",
        "header = data.first()\n",
        "rows = data.filter(lambda line: line != header)\n",
        "split_rdd = rows.map(lambda line: line.split(\",\"))\n",
        "\n",
        "print(\"=== Student Dataset (first 10 rows) ===\")\n",
        "for row in split_rdd.take(10):\n",
        "    print(row)"
      ],
      "metadata": {
        "colab": {
          "base_uri": "https://localhost:8080/"
        },
        "id": "ao5Xcr-VdCRB",
        "outputId": "1ea52f05-01e0-4da3-e5ad-061721ea231a"
      },
      "execution_count": 6,
      "outputs": [
        {
          "output_type": "stream",
          "name": "stdout",
          "text": [
            "=== Student Dataset (first 10 rows) ===\n",
            "['1', 'Alice', '20', 'F', '66', '92', '44']\n",
            "['2', 'Bob', '20', 'M', '82', '52', '77']\n",
            "['3', 'Charlie', '22', 'F', '43', '57', '76']\n",
            "['4', 'David', '19', 'M', '95', '69', '46']\n",
            "['5', 'Eva', '19', 'F', '62', '44', '96']\n",
            "['6', 'Frank', '22', 'F', '70', '78', '94']\n",
            "['7', 'Grace', '24', 'F', '67', '66', '93']\n",
            "['8', 'Henry', '21', 'F', '53', '82', '60']\n",
            "['9', 'Ivy', '19', 'M', '64', '52', '46']\n",
            "['10', 'Jack', '19', 'F', '44', '59', '60']\n"
          ]
        }
      ]
    },
    {
      "cell_type": "markdown",
      "source": [
        "Transform data"
      ],
      "metadata": {
        "id": "bh_CTsXud4Wp"
      }
    },
    {
      "cell_type": "code",
      "source": [
        "students_rdd = split_rdd.map(lambda x: (int(x[0]), x[1], int(x[2]), x[3], int(x[4]), int(x[5]), int(x[6])))\n",
        "avg_marks_rdd = students_rdd.map(lambda x: (x[1], (x[4] + x[5] + x[6]) / 3))\n",
        "passed_rdd = avg_marks_rdd.filter(lambda x: x[1] >= 75)\n",
        "sorted_passed_rdd = passed_rdd.sortBy(lambda x: x[1], ascending=False)"
      ],
      "metadata": {
        "id": "RLgr9UZHdec5"
      },
      "execution_count": 7,
      "outputs": []
    },
    {
      "cell_type": "markdown",
      "source": [
        "Collect Result"
      ],
      "metadata": {
        "id": "ClG6u73Cd8Sq"
      }
    },
    {
      "cell_type": "code",
      "source": [
        "results = sorted_passed_rdd.collect()\n",
        "\n",
        "print(\"\\n=== Students with Average >= 75 ===\")\n",
        "for student in results:\n",
        "    print(f\"Name: {student[0]}, Avg Marks: {student[1]:.2f}\")"
      ],
      "metadata": {
        "colab": {
          "base_uri": "https://localhost:8080/"
        },
        "id": "BrImgs80d7wg",
        "outputId": "d528b03c-4868-4c72-ce75-32811c654c8c"
      },
      "execution_count": 8,
      "outputs": [
        {
          "output_type": "stream",
          "name": "stdout",
          "text": [
            "\n",
            "=== Students with Average >= 75 ===\n",
            "Name: Leo, Avg Marks: 88.00\n",
            "Name: Olivia, Avg Marks: 88.00\n",
            "Name: Rita, Avg Marks: 86.67\n",
            "Name: Kathy, Avg Marks: 81.67\n",
            "Name: George, Avg Marks: 81.67\n",
            "Name: Frank, Avg Marks: 80.67\n",
            "Name: Oscar, Avg Marks: 80.00\n",
            "Name: Uma, Avg Marks: 78.33\n",
            "Name: Kyle, Avg Marks: 78.33\n",
            "Name: Matt, Avg Marks: 78.33\n",
            "Name: Tina, Avg Marks: 76.00\n",
            "Name: Victor, Avg Marks: 75.67\n",
            "Name: Grace, Avg Marks: 75.33\n",
            "Name: Mona, Avg Marks: 75.00\n",
            "Name: Will, Avg Marks: 75.00\n"
          ]
        }
      ]
    },
    {
      "cell_type": "code",
      "source": [
        "count_passed = passed_rdd.count()\n",
        "print(f\"\\nNumber of students who passed: {count_passed}\")\n",
        "\n",
        "topper = passed_rdd.reduce(lambda a, b: a if a[1] > b[1] else b)\n",
        "print(f\"Topper: {topper}\")\n",
        "\n",
        "print(\"\\nFirst 5 Passed Students (via take):\")\n",
        "print(passed_rdd.take(5))"
      ],
      "metadata": {
        "colab": {
          "base_uri": "https://localhost:8080/"
        },
        "id": "bonfRP6YeCHt",
        "outputId": "b664dd8e-0957-41d7-9782-e0814f05903f"
      },
      "execution_count": 9,
      "outputs": [
        {
          "output_type": "stream",
          "name": "stdout",
          "text": [
            "\n",
            "Number of students who passed: 15\n",
            "Topper: ('Olivia', 88.0)\n",
            "\n",
            "First 5 Passed Students (via take):\n",
            "[('Frank', 80.66666666666667), ('Grace', 75.33333333333333), ('Kathy', 81.66666666666667), ('Leo', 88.0), ('Mona', 75.0)]\n"
          ]
        }
      ]
    },
    {
      "cell_type": "code",
      "source": [
        "sc.stop()"
      ],
      "metadata": {
        "id": "JtpglC65eGVB"
      },
      "execution_count": 10,
      "outputs": []
    }
  ]
}