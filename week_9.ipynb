{
  "nbformat": 4,
  "nbformat_minor": 0,
  "metadata": {
    "colab": {
      "provenance": [],
      "authorship_tag": "ABX9TyORMaix9bzBzIuW1T4LoHle",
      "include_colab_link": true
    },
    "kernelspec": {
      "name": "python3",
      "display_name": "Python 3"
    },
    "language_info": {
      "name": "python"
    }
  },
  "cells": [
    {
      "cell_type": "markdown",
      "metadata": {
        "id": "view-in-github",
        "colab_type": "text"
      },
      "source": [
        "<a href=\"https://colab.research.google.com/github/ahsplore/BigDataAnalytics/blob/main/week_9.ipynb\" target=\"_parent\"><img src=\"https://colab.research.google.com/assets/colab-badge.svg\" alt=\"Open In Colab\"/></a>"
      ]
    },
    {
      "cell_type": "markdown",
      "source": [
        "# Week 9"
      ],
      "metadata": {
        "id": "0ZX8is2bzZJ_"
      }
    },
    {
      "cell_type": "markdown",
      "source": [
        "#Create DataFrame and apply basic operations viewing and selecting in pyspark"
      ],
      "metadata": {
        "id": "87bHr8cGzZGe"
      }
    },
    {
      "cell_type": "code",
      "execution_count": 1,
      "metadata": {
        "id": "51kt9RzXysvP"
      },
      "outputs": [],
      "source": [
        "from pyspark.sql import SparkSession\n",
        "\n",
        "spark = SparkSession.builder.appName(\"BasicDataFrameOps\").getOrCreate()"
      ]
    },
    {
      "cell_type": "code",
      "source": [
        "df = spark.read.csv(\"students.csv\", header=True, inferSchema=True)"
      ],
      "metadata": {
        "id": "20clOX9r7kWF"
      },
      "execution_count": 5,
      "outputs": []
    },
    {
      "cell_type": "code",
      "source": [
        "print(\"=== First 5 rows ===\")\n",
        "df.show(5)"
      ],
      "metadata": {
        "colab": {
          "base_uri": "https://localhost:8080/"
        },
        "id": "SKvSgKYk7kTK",
        "outputId": "1c8b0eb6-d61e-4c3d-de75-a90507350309"
      },
      "execution_count": 6,
      "outputs": [
        {
          "output_type": "stream",
          "name": "stdout",
          "text": [
            "=== First 5 rows ===\n",
            "+---+-------+---+------+----+-------+-------+\n",
            "| id|   name|age|gender|math|science|english|\n",
            "+---+-------+---+------+----+-------+-------+\n",
            "|  1|  Alice| 20|     F|  66|     92|     44|\n",
            "|  2|    Bob| 20|     M|  82|     52|     77|\n",
            "|  3|Charlie| 22|     F|  43|     57|     76|\n",
            "|  4|  David| 19|     M|  95|     69|     46|\n",
            "|  5|    Eva| 19|     F|  62|     44|     96|\n",
            "+---+-------+---+------+----+-------+-------+\n",
            "only showing top 5 rows\n",
            "\n"
          ]
        }
      ]
    },
    {
      "cell_type": "code",
      "source": [
        "print(\"=== Schema ===\")\n",
        "df.printSchema()"
      ],
      "metadata": {
        "colab": {
          "base_uri": "https://localhost:8080/"
        },
        "id": "Zk0UB8_k7kP0",
        "outputId": "29c6cd78-b83d-4f72-ea49-5d06adbab1ae"
      },
      "execution_count": 7,
      "outputs": [
        {
          "output_type": "stream",
          "name": "stdout",
          "text": [
            "=== Schema ===\n",
            "root\n",
            " |-- id: integer (nullable = true)\n",
            " |-- name: string (nullable = true)\n",
            " |-- age: integer (nullable = true)\n",
            " |-- gender: string (nullable = true)\n",
            " |-- math: integer (nullable = true)\n",
            " |-- science: integer (nullable = true)\n",
            " |-- english: integer (nullable = true)\n",
            "\n"
          ]
        }
      ]
    },
    {
      "cell_type": "code",
      "source": [
        "print(\"=== Select name and math columns ===\")\n",
        "df.select(\"name\", \"math\").show(5)"
      ],
      "metadata": {
        "colab": {
          "base_uri": "https://localhost:8080/"
        },
        "id": "J-_i_LJB7kMf",
        "outputId": "bace3d50-7404-4da0-8be6-bba30d04f2cc"
      },
      "execution_count": 8,
      "outputs": [
        {
          "output_type": "stream",
          "name": "stdout",
          "text": [
            "=== Select name and math columns ===\n",
            "+-------+----+\n",
            "|   name|math|\n",
            "+-------+----+\n",
            "|  Alice|  66|\n",
            "|    Bob|  82|\n",
            "|Charlie|  43|\n",
            "|  David|  95|\n",
            "|    Eva|  62|\n",
            "+-------+----+\n",
            "only showing top 5 rows\n",
            "\n"
          ]
        }
      ]
    },
    {
      "cell_type": "code",
      "source": [
        "print(\"=== Students with math >= 80 ===\")\n",
        "df.filter(df.math >= 80).show(5)"
      ],
      "metadata": {
        "colab": {
          "base_uri": "https://localhost:8080/"
        },
        "id": "NNhk-IJX70Ey",
        "outputId": "231e4e51-e792-4000-9d73-8ec02958551d"
      },
      "execution_count": 9,
      "outputs": [
        {
          "output_type": "stream",
          "name": "stdout",
          "text": [
            "=== Students with math >= 80 ===\n",
            "+---+------+---+------+----+-------+-------+\n",
            "| id|  name|age|gender|math|science|english|\n",
            "+---+------+---+------+----+-------+-------+\n",
            "|  2|   Bob| 20|     M|  82|     52|     77|\n",
            "|  4| David| 19|     M|  95|     69|     46|\n",
            "| 11| Kathy| 25|     M|  85|     71|     89|\n",
            "| 12|   Leo| 24|     M|  97|     84|     83|\n",
            "| 15|Olivia| 18|     M|  87|     90|     87|\n",
            "+---+------+---+------+----+-------+-------+\n",
            "only showing top 5 rows\n",
            "\n"
          ]
        }
      ]
    },
    {
      "cell_type": "code",
      "source": [
        "print(\"=== Sorted by science (desc) ===\")\n",
        "df.orderBy(df.science.desc()).show(5)"
      ],
      "metadata": {
        "colab": {
          "base_uri": "https://localhost:8080/"
        },
        "id": "ma8dpwl770BT",
        "outputId": "4e567885-6cf5-4f37-b91f-dea336cdc2c9"
      },
      "execution_count": 10,
      "outputs": [
        {
          "output_type": "stream",
          "name": "stdout",
          "text": [
            "=== Sorted by science (desc) ===\n",
            "+---+------+---+------+----+-------+-------+\n",
            "| id|  name|age|gender|math|science|english|\n",
            "+---+------+---+------+----+-------+-------+\n",
            "| 27| Aaron| 25|     F|  81|     99|     44|\n",
            "| 32| Fiona| 22|     F|  48|     96|     48|\n",
            "| 33|George| 22|     M|  66|     95|     84|\n",
            "| 29|  Carl| 22|     F|  53|     92|     52|\n",
            "|  1| Alice| 20|     F|  66|     92|     44|\n",
            "+---+------+---+------+----+-------+-------+\n",
            "only showing top 5 rows\n",
            "\n"
          ]
        }
      ]
    },
    {
      "cell_type": "code",
      "source": [
        "print(\"Total rows in dataset:\", df.count())\n",
        "print(\"Columns:\", df.columns)"
      ],
      "metadata": {
        "colab": {
          "base_uri": "https://localhost:8080/"
        },
        "id": "o0F0cSk57z5s",
        "outputId": "eb93cece-91ef-48be-dc78-f29be1032906"
      },
      "execution_count": 11,
      "outputs": [
        {
          "output_type": "stream",
          "name": "stdout",
          "text": [
            "Total rows in dataset: 50\n",
            "Columns: ['id', 'name', 'age', 'gender', 'math', 'science', 'english']\n"
          ]
        }
      ]
    },
    {
      "cell_type": "code",
      "source": [
        "spark.stop()"
      ],
      "metadata": {
        "id": "jWhTkvth775W"
      },
      "execution_count": 12,
      "outputs": []
    }
  ]
}