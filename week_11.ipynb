{
  "nbformat": 4,
  "nbformat_minor": 0,
  "metadata": {
    "colab": {
      "provenance": [],
      "authorship_tag": "ABX9TyOq4eAWC1OzQO/SdTUJhx20",
      "include_colab_link": true
    },
    "kernelspec": {
      "name": "python3",
      "display_name": "Python 3"
    },
    "language_info": {
      "name": "python"
    }
  },
  "cells": [
    {
      "cell_type": "markdown",
      "metadata": {
        "id": "view-in-github",
        "colab_type": "text"
      },
      "source": [
        "<a href=\"https://colab.research.google.com/github/ahsplore/BigDataAnalytics/blob/main/week_11.ipynb\" target=\"_parent\"><img src=\"https://colab.research.google.com/assets/colab-badge.svg\" alt=\"Open In Colab\"/></a>"
      ]
    },
    {
      "cell_type": "markdown",
      "source": [
        "#Week 11"
      ],
      "metadata": {
        "id": "9tYWbGw3LfHu"
      }
    },
    {
      "cell_type": "markdown",
      "source": [
        "#Create Dataframe in pyspark by loading data from CSV file and perform basic analytical operations"
      ],
      "metadata": {
        "id": "eDxkkyrWLfEN"
      }
    },
    {
      "cell_type": "code",
      "execution_count": 1,
      "metadata": {
        "id": "0-5rDuxsLavk"
      },
      "outputs": [],
      "source": [
        "from pyspark.sql import SparkSession\n",
        "from pyspark.sql.functions import col, avg, max, min, round, count\n",
        "\n",
        "spark = SparkSession.builder.appName(\"StudentsAnalytics\").getOrCreate()"
      ]
    },
    {
      "cell_type": "markdown",
      "source": [
        "read CSV file"
      ],
      "metadata": {
        "id": "FVmrQUTlOuGV"
      }
    },
    {
      "cell_type": "code",
      "source": [
        "df = spark.read.csv(\"students.csv\", header=True, inferSchema=True)"
      ],
      "metadata": {
        "id": "1PbnThPROrt5"
      },
      "execution_count": 2,
      "outputs": []
    },
    {
      "cell_type": "markdown",
      "source": [
        "structure and content of dataset"
      ],
      "metadata": {
        "id": "fH4FQTpjPEWL"
      }
    },
    {
      "cell_type": "code",
      "source": [
        "print(\"=== First 5 rows ===\")\n",
        "df.show(5)"
      ],
      "metadata": {
        "colab": {
          "base_uri": "https://localhost:8080/"
        },
        "id": "05plaTa3Orpu",
        "outputId": "4b341968-c30a-4309-a116-99e094d37599"
      },
      "execution_count": 3,
      "outputs": [
        {
          "output_type": "stream",
          "name": "stdout",
          "text": [
            "=== First 5 rows ===\n",
            "+---+-------+---+------+----+-------+-------+\n",
            "| id|   name|age|gender|math|science|english|\n",
            "+---+-------+---+------+----+-------+-------+\n",
            "|  1|  Alice| 20|     F|  66|     92|     44|\n",
            "|  2|    Bob| 20|     M|  82|     52|     77|\n",
            "|  3|Charlie| 22|     F|  43|     57|     76|\n",
            "|  4|  David| 19|     M|  95|     69|     46|\n",
            "|  5|    Eva| 19|     F|  62|     44|     96|\n",
            "+---+-------+---+------+----+-------+-------+\n",
            "only showing top 5 rows\n",
            "\n"
          ]
        }
      ]
    },
    {
      "cell_type": "code",
      "source": [
        "print(\"=== Schema ===\")\n",
        "df.printSchema()\n",
        "\n",
        "print(\"Total rows:\", df.count())\n",
        "\n",
        "print(\"=== Summary Statistics ===\")\n",
        "df.describe().show()"
      ],
      "metadata": {
        "colab": {
          "base_uri": "https://localhost:8080/"
        },
        "id": "v5EbK92DOrmF",
        "outputId": "0939a23d-520f-4b1d-da92-67cc36a24584"
      },
      "execution_count": 4,
      "outputs": [
        {
          "output_type": "stream",
          "name": "stdout",
          "text": [
            "=== Schema ===\n",
            "root\n",
            " |-- id: integer (nullable = true)\n",
            " |-- name: string (nullable = true)\n",
            " |-- age: integer (nullable = true)\n",
            " |-- gender: string (nullable = true)\n",
            " |-- math: integer (nullable = true)\n",
            " |-- science: integer (nullable = true)\n",
            " |-- english: integer (nullable = true)\n",
            "\n",
            "Total rows: 50\n",
            "=== Summary Statistics ===\n",
            "+-------+------------------+-----+------------------+------+------------------+------------------+-----------------+\n",
            "|summary|                id| name|               age|gender|              math|           science|          english|\n",
            "+-------+------------------+-----+------------------+------+------------------+------------------+-----------------+\n",
            "|  count|                50|   50|                50|    50|                50|                50|               50|\n",
            "|   mean|              25.5| NULL|              21.5|  NULL|             68.94|             70.16|            69.36|\n",
            "| stddev|14.577379737113251| NULL|2.2337851101588404|  NULL|17.609610085034216|14.636214521186957|18.74507826560544|\n",
            "|    min|                 1|Aaron|                18|     F|                40|                44|               42|\n",
            "|    max|                50| Zoey|                25|     M|               100|                99|              100|\n",
            "+-------+------------------+-----+------------------+------+------------------+------------------+-----------------+\n",
            "\n"
          ]
        }
      ]
    },
    {
      "cell_type": "markdown",
      "source": [
        "filter students with math >= 80"
      ],
      "metadata": {
        "id": "jJhAwrewO_KX"
      }
    },
    {
      "cell_type": "code",
      "source": [
        "print(\"=== Students with math >= 80 ===\")\n",
        "df.filter(col(\"math\") >= 80).select(\"id\", \"name\", \"math\").show(10)"
      ],
      "metadata": {
        "colab": {
          "base_uri": "https://localhost:8080/"
        },
        "id": "4QrYhqpPOri8",
        "outputId": "aa1f1e81-83ed-441b-afa4-ff7fa85deadb"
      },
      "execution_count": 5,
      "outputs": [
        {
          "output_type": "stream",
          "name": "stdout",
          "text": [
            "=== Students with math >= 80 ===\n",
            "+---+------+----+\n",
            "| id|  name|math|\n",
            "+---+------+----+\n",
            "|  2|   Bob|  82|\n",
            "|  4| David|  95|\n",
            "| 11| Kathy|  85|\n",
            "| 12|   Leo|  97|\n",
            "| 15|Olivia|  87|\n",
            "| 20|  Tina| 100|\n",
            "| 21|   Uma|  89|\n",
            "| 22|Victor|  96|\n",
            "| 25|  Yara| 100|\n",
            "| 27| Aaron|  81|\n",
            "+---+------+----+\n",
            "only showing top 10 rows\n",
            "\n"
          ]
        }
      ]
    },
    {
      "cell_type": "markdown",
      "source": [
        "average marks per subject"
      ],
      "metadata": {
        "id": "GP7TaeM4PKcv"
      }
    },
    {
      "cell_type": "code",
      "source": [
        "print(\"=== Average marks per subject ===\")\n",
        "df.select(\n",
        "    round(avg(\"math\"), 2).alias(\"avg_math\"),\n",
        "    round(avg(\"science\"), 2).alias(\"avg_science\"),\n",
        "    round(avg(\"english\"), 2).alias(\"avg_english\")\n",
        ").show()"
      ],
      "metadata": {
        "colab": {
          "base_uri": "https://localhost:8080/"
        },
        "id": "_jHdSs-3Orf0",
        "outputId": "249c4985-5e50-4cdc-9418-884379b61923"
      },
      "execution_count": 6,
      "outputs": [
        {
          "output_type": "stream",
          "name": "stdout",
          "text": [
            "=== Average marks per subject ===\n",
            "+--------+-----------+-----------+\n",
            "|avg_math|avg_science|avg_english|\n",
            "+--------+-----------+-----------+\n",
            "|   68.94|      70.16|      69.36|\n",
            "+--------+-----------+-----------+\n",
            "\n"
          ]
        }
      ]
    },
    {
      "cell_type": "markdown",
      "source": [
        "adding new column - average"
      ],
      "metadata": {
        "id": "kBiGNbhBPPJv"
      }
    },
    {
      "cell_type": "code",
      "source": [
        "df_with_avg = df.withColumn(\"average\", round((col(\"math\") + col(\"science\") + col(\"english\")) / 3, 2))\n",
        "print(\"=== Dataset with 'average' column ===\")\n",
        "df_with_avg.show(5)"
      ],
      "metadata": {
        "colab": {
          "base_uri": "https://localhost:8080/"
        },
        "id": "68Ne3x6tPNH4",
        "outputId": "aaedbe9c-3332-4cf9-99d7-b6d53ed38f27"
      },
      "execution_count": 7,
      "outputs": [
        {
          "output_type": "stream",
          "name": "stdout",
          "text": [
            "=== Dataset with 'average' column ===\n",
            "+---+-------+---+------+----+-------+-------+-------+\n",
            "| id|   name|age|gender|math|science|english|average|\n",
            "+---+-------+---+------+----+-------+-------+-------+\n",
            "|  1|  Alice| 20|     F|  66|     92|     44|  67.33|\n",
            "|  2|    Bob| 20|     M|  82|     52|     77|  70.33|\n",
            "|  3|Charlie| 22|     F|  43|     57|     76|  58.67|\n",
            "|  4|  David| 19|     M|  95|     69|     46|   70.0|\n",
            "|  5|    Eva| 19|     F|  62|     44|     96|  67.33|\n",
            "+---+-------+---+------+----+-------+-------+-------+\n",
            "only showing top 5 rows\n",
            "\n"
          ]
        }
      ]
    },
    {
      "cell_type": "markdown",
      "source": [
        "finding topper"
      ],
      "metadata": {
        "id": "cz_AT3rWPn5T"
      }
    },
    {
      "cell_type": "code",
      "source": [
        "print(\"=== Topper ===\")\n",
        "df_with_avg.orderBy(col(\"average\").desc()).limit(1).show()"
      ],
      "metadata": {
        "colab": {
          "base_uri": "https://localhost:8080/"
        },
        "id": "4c00r_PbPNFa",
        "outputId": "8ae6006a-9cf9-43c3-e9b7-cadd82acec7b"
      },
      "execution_count": 8,
      "outputs": [
        {
          "output_type": "stream",
          "name": "stdout",
          "text": [
            "=== Topper ===\n",
            "+---+----+---+------+----+-------+-------+-------+\n",
            "| id|name|age|gender|math|science|english|average|\n",
            "+---+----+---+------+----+-------+-------+-------+\n",
            "| 12| Leo| 24|     M|  97|     84|     83|   88.0|\n",
            "+---+----+---+------+----+-------+-------+-------+\n",
            "\n"
          ]
        }
      ]
    },
    {
      "cell_type": "markdown",
      "source": [
        "average marks by gender"
      ],
      "metadata": {
        "id": "oqS8qHohPtY3"
      }
    },
    {
      "cell_type": "code",
      "source": [
        "print(\"=== Average marks by gender ===\")\n",
        "df_with_avg.groupBy(\"gender\").agg(\n",
        "    round(avg(\"math\"), 2).alias(\"avg_math\"),\n",
        "    round(avg(\"science\"), 2).alias(\"avg_science\"),\n",
        "    round(avg(\"english\"), 2).alias(\"avg_english\"),\n",
        "    round(avg(\"average\"), 2).alias(\"overall_avg\")\n",
        ").show()"
      ],
      "metadata": {
        "colab": {
          "base_uri": "https://localhost:8080/"
        },
        "id": "gvCVJUtTPNBp",
        "outputId": "153cbc7e-419b-4308-e77b-2501e0724774"
      },
      "execution_count": 9,
      "outputs": [
        {
          "output_type": "stream",
          "name": "stdout",
          "text": [
            "=== Average marks by gender ===\n",
            "+------+--------+-----------+-----------+-----------+\n",
            "|gender|avg_math|avg_science|avg_english|overall_avg|\n",
            "+------+--------+-----------+-----------+-----------+\n",
            "|     F|   63.86|      68.55|      70.55|      67.66|\n",
            "|     M|   75.95|      72.38|      67.71|      72.02|\n",
            "+------+--------+-----------+-----------+-----------+\n",
            "\n"
          ]
        }
      ]
    },
    {
      "cell_type": "markdown",
      "source": [
        "minimum and maximum marks"
      ],
      "metadata": {
        "id": "8DtMNtKmPwEJ"
      }
    },
    {
      "cell_type": "code",
      "source": [
        "print(\"=== Min & Max of each subject ===\")\n",
        "df.select(\n",
        "    min(\"math\").alias(\"min_math\"), max(\"math\").alias(\"max_math\"),\n",
        "    min(\"science\").alias(\"min_science\"), max(\"science\").alias(\"max_science\"),\n",
        "    min(\"english\").alias(\"min_english\"), max(\"english\").alias(\"max_english\")\n",
        ").show()"
      ],
      "metadata": {
        "colab": {
          "base_uri": "https://localhost:8080/"
        },
        "id": "cEbe0SN1PM9f",
        "outputId": "d758aff7-b838-4355-99fa-d055273432a8"
      },
      "execution_count": 10,
      "outputs": [
        {
          "output_type": "stream",
          "name": "stdout",
          "text": [
            "=== Min & Max of each subject ===\n",
            "+--------+--------+-----------+-----------+-----------+-----------+\n",
            "|min_math|max_math|min_science|max_science|min_english|max_english|\n",
            "+--------+--------+-----------+-----------+-----------+-----------+\n",
            "|      40|     100|         44|         99|         42|        100|\n",
            "+--------+--------+-----------+-----------+-----------+-----------+\n",
            "\n"
          ]
        }
      ]
    },
    {
      "cell_type": "code",
      "source": [
        "spark.stop()"
      ],
      "metadata": {
        "id": "6T6AroUlPM6p"
      },
      "execution_count": 11,
      "outputs": []
    }
  ]
}