{
  "nbformat": 4,
  "nbformat_minor": 0,
  "metadata": {
    "colab": {
      "provenance": [],
      "authorship_tag": "ABX9TyPLkbLZaXyN7PWRJim9rIHv",
      "include_colab_link": true
    },
    "kernelspec": {
      "name": "python3",
      "display_name": "Python 3"
    },
    "language_info": {
      "name": "python"
    }
  },
  "cells": [
    {
      "cell_type": "markdown",
      "metadata": {
        "id": "view-in-github",
        "colab_type": "text"
      },
      "source": [
        "<a href=\"https://colab.research.google.com/github/ahsplore/BigDataAnalytics/blob/main/week_6.ipynb\" target=\"_parent\"><img src=\"https://colab.research.google.com/assets/colab-badge.svg\" alt=\"Open In Colab\"/></a>"
      ]
    },
    {
      "cell_type": "markdown",
      "source": [
        "# Week 6"
      ],
      "metadata": {
        "id": "moGuZNTyZAsz"
      }
    },
    {
      "cell_type": "markdown",
      "source": [
        "#Filtering even numbers from the list using Pyspark RDD"
      ],
      "metadata": {
        "id": "5YlNgA02ZDRG"
      }
    },
    {
      "cell_type": "code",
      "source": [
        "!pip install pyspark\n"
      ],
      "metadata": {
        "colab": {
          "base_uri": "https://localhost:8080/"
        },
        "id": "DpqS8kK_ZNUl",
        "outputId": "18e6db8e-f607-4691-c353-a7691fef5f05"
      },
      "execution_count": null,
      "outputs": [
        {
          "output_type": "stream",
          "name": "stdout",
          "text": [
            "Requirement already satisfied: pyspark in /usr/local/lib/python3.12/dist-packages (3.5.1)\n",
            "Requirement already satisfied: py4j==0.10.9.7 in /usr/local/lib/python3.12/dist-packages (from pyspark) (0.10.9.7)\n"
          ]
        }
      ]
    },
    {
      "cell_type": "code",
      "source": [
        "from pyspark import SparkContext, SparkConf\n",
        "\n",
        "conf = SparkConf().setAppName(\"ColabPySpark\").setMaster(\"local[*]\")\n",
        "sc = SparkContext.getOrCreate(conf)"
      ],
      "metadata": {
        "id": "qcob3EzQZVt1"
      },
      "execution_count": null,
      "outputs": []
    },
    {
      "cell_type": "markdown",
      "source": [
        "Generate random numbers"
      ],
      "metadata": {
        "id": "t5RGUrTHZqpO"
      }
    },
    {
      "cell_type": "code",
      "source": [
        "import random\n",
        "\n",
        "random_numbers = [random.randint(1, 1000) for _ in range(100)]\n",
        "print(\"Original List:\")\n",
        "print(random_numbers)"
      ],
      "metadata": {
        "colab": {
          "base_uri": "https://localhost:8080/"
        },
        "id": "lByDd7j6ZV7F",
        "outputId": "529c369d-be56-4b61-a0cd-067c35efdd5d"
      },
      "execution_count": null,
      "outputs": [
        {
          "output_type": "stream",
          "name": "stdout",
          "text": [
            "Original List:\n",
            "[585, 927, 618, 72, 515, 854, 683, 377, 4, 850, 140, 431, 939, 316, 239, 245, 416, 662, 654, 932, 646, 433, 825, 551, 168, 749, 326, 721, 256, 792, 911, 411, 454, 750, 127, 961, 726, 748, 133, 389, 898, 289, 438, 528, 275, 83, 940, 691, 401, 60, 937, 405, 199, 588, 7, 445, 878, 363, 858, 405, 396, 393, 364, 443, 509, 284, 516, 892, 757, 206, 278, 937, 360, 907, 783, 768, 446, 394, 63, 677, 383, 90, 710, 334, 878, 136, 510, 108, 713, 734, 692, 570, 97, 914, 157, 876, 661, 207, 371, 164]\n"
          ]
        }
      ]
    },
    {
      "cell_type": "markdown",
      "source": [
        "Create RDD and filter even numbers"
      ],
      "metadata": {
        "id": "qn7J6FjQZl_7"
      }
    },
    {
      "cell_type": "code",
      "source": [
        "numbers_rdd = sc.parallelize(random_numbers)\n",
        "even_numbers_rdd = numbers_rdd.filter(lambda x: x % 2 == 0)\n",
        "even_numbers = even_numbers_rdd.collect()\n",
        "\n",
        "print(\"\\nEven Numbers:\")\n",
        "print(even_numbers)"
      ],
      "metadata": {
        "colab": {
          "base_uri": "https://localhost:8080/"
        },
        "id": "55YGDdKnZWAy",
        "outputId": "597ef8df-f0c8-4ca9-84a7-4d538a3cde16"
      },
      "execution_count": null,
      "outputs": [
        {
          "output_type": "stream",
          "name": "stdout",
          "text": [
            "\n",
            "Even Numbers:\n",
            "[618, 72, 854, 4, 850, 140, 316, 416, 662, 654, 932, 646, 168, 326, 256, 792, 454, 750, 726, 748, 898, 438, 528, 940, 60, 588, 878, 858, 396, 364, 284, 516, 892, 206, 278, 360, 768, 446, 394, 90, 710, 334, 878, 136, 510, 108, 734, 692, 570, 914, 876, 164]\n"
          ]
        }
      ]
    }
  ]
}